{
 "cells": [
  {
   "cell_type": "markdown",
   "id": "f607319c-37e7-4abf-abe6-6a924b8d395c",
   "metadata": {},
   "source": [
    "## Zadanie 1"
   ]
  },
  {
   "cell_type": "markdown",
   "id": "c2c4ba31-36a8-4042-8783-6cef520b27b9",
   "metadata": {},
   "source": [
    "Wyznacz epsilon maszynowy, czyli najmniejszą liczbę dodatnią $ε$ postaci $ε = 2^{−n}$, dla której $1+ ε > 1.$ Obliczenia wykonaj za pomocą programu w dowolnie wybranym języku programowania.\n",
    "Podobnie dla każdej z wartości $10, 100, 1000, 10^4$ liczby a wyznacz najmniejszą liczbę $ε_a = 2^{−n}$ taką, że $a+ε_a >a$."
   ]
  },
  {
   "cell_type": "code",
   "execution_count": 59,
   "id": "0319a1e7-7023-42ff-bdf1-d14e21a39ded",
   "metadata": {},
   "outputs": [
    {
     "name": "stdout",
     "output_type": "stream",
     "text": [
      "epsilon maszynowy to: 2.220446049250313e-16\n"
     ]
    }
   ],
   "source": [
    "epsi = 1.0\n",
    "while (1.0 + epsi) > 1.0:\n",
    "    epsi /= 2.0\n",
    "    \n",
    "epsi *= 2.0\n",
    "\n",
    "print('epsilon maszynowy to:', epsi)"
   ]
  },
  {
   "cell_type": "code",
   "execution_count": 61,
   "id": "02f0cdb8-b7f6-4236-ae31-b7bb0555af7b",
   "metadata": {},
   "outputs": [
    {
     "name": "stdout",
     "output_type": "stream",
     "text": [
      "dla a = 10 epsilon maszynowy to: 1.7763568394002505e-15\n",
      "dla a = 100 epsilon maszynowy to: 1.4210854715202004e-14\n",
      "dla a = 1000 epsilon maszynowy to: 1.1368683772161603e-13\n",
      "dla a = 10000 epsilon maszynowy to: 1.8189894035458565e-12\n"
     ]
    }
   ],
   "source": [
    "lista = [10, 100, 1000, 10**4]\n",
    "for a in lista:\n",
    "    epsi = 1.0\n",
    "    while (a + epsi) > a:\n",
    "        epsi /= 2.0\n",
    "    \n",
    "    epsi *= 2.0\n",
    "    print('dla a =', a, 'epsilon maszynowy to:', epsi)"
   ]
  },
  {
   "cell_type": "markdown",
   "id": "7e4c9a63-1266-41cf-b590-7dda3df47c8f",
   "metadata": {
    "tags": []
   },
   "source": [
    "## Zadanie 2"
   ]
  },
  {
   "cell_type": "markdown",
   "id": "c36dcba9-28bc-42cb-b2ab-a74b9a5f93d7",
   "metadata": {},
   "source": [
    "Niech ciąg $x_i$ będzie zadany poprzez zależność rekurencyjną $5x_{i−1} − 26x_i + 5x_{i+1} = 0$\n",
    "z wartościami początkowymi $x_0 = 1, x_1 = \\frac{1}{5}$. (Sprawdź, że ciąg $\\frac{1}{5^n}$ jest jedynym spełniającym podane warunki). Napisz program, za pomocą którego dla\n",
    "zadanego $N$ wychodząc z danych początkowych $x_0 = 1, x_1 = \\frac15$, korzystając ze związku rekurencyjnego obliczysz $x_{N−1} i\\  x_N$. Obliczenia wykonaj dla $N = 30$. Następnie korzystając z obliczonych wartości $x_{29}$ i $x_{30}$ jako danych początkowych, stosując rekurencję w tył\n",
    "oblicz $x_0$ i $x_1$. Porównaj wynik z danymi dokaadnymi. Wyjaśnij przyczyny powstania błędów. (Oceń, jakiemu wzmocnieniu może ulec błąd przechodząc w obliczeniach z $x_{i−1}$ i\n",
    "$x_i$ do $x_{i+1}$.)\n",
    "Ten sam eksperyment wykonaj dla ciągu $y_i$ zadanego rekurencją\n",
    "$2x_{i−1} − 5x_i + 2x_{i+1} = 0$\n",
    "z wartościami początkowymi $y_0 = 1$ i $y_1 = \\frac12$. Dlaczego tu wyniki są dokładne?"
   ]
  },
  {
   "cell_type": "code",
   "execution_count": 68,
   "id": "92cb2b1c-e864-426b-8f0d-82f7a948fc54",
   "metadata": {},
   "outputs": [
    {
     "name": "stdout",
     "output_type": "stream",
     "text": [
      "x_0 = 9.637484773816233e+19\n",
      "x_1 = 1.94316869765536e+19\n",
      "x_0 dokładne = 5.5901699437494745\n",
      "x_1 dokładne = 0.08944271909999159\n"
     ]
    }
   ],
   "source": [
    "def calculate_x(n):\n",
    "    x = [1, 1/5]  # wartości początkowe\n",
    "    for i in range(1, n):\n",
    "        x.append((26*x1 - 5*x0) / 5)  # wzór rekurencyjny\n",
    "    return x\n",
    "\n",
    "n = 30\n",
    "x = calculate_x(n)\n",
    "\n",
    "# obliczanie w tył\n",
    "y = [x[30], x[29]]\n",
    "for i in range(28, -1, -1):\n",
    "    y.append(5*y[-1] - y[-2] / 5)\n",
    "y.reverse()\n",
    "\n",
    "# Wartości dokładne dla x0 i x1\n",
    "x0_dokladne = 5**(5/2) / 10\n",
    "x1_dokladne = 5**(-3/2)\n",
    "\n",
    "print(\"x_0 =\", y[0])\n",
    "print(\"x_1 =\", y[1])\n",
    "print(\"x_0 dokładne =\", x0_dokladne)\n",
    "print(\"x_1 dokładne =\", x1_dokladne)"
   ]
  },
  {
   "cell_type": "code",
   "execution_count": 74,
   "id": "8fd83970-5add-4622-ba8c-4e4dd8bfe1df",
   "metadata": {},
   "outputs": [
    {
     "name": "stdout",
     "output_type": "stream",
     "text": [
      "y_0 = 4.6148561978071045e-07\n",
      "y_1 = 4.6148561978071045e-07\n",
      "y_0 dokładne = 0.7937005259840997\n",
      "y_1 dokładne = 0.7937005259840998\n"
     ]
    }
   ],
   "source": [
    "def calculate_y(n):\n",
    "    y = [1, 1/5]  # wartości początkowe\n",
    "    for i in range(1, n):\n",
    "        y.append((5*y1 - 2*y0) / 2)  # wzór rekurencyjny\n",
    "    return y\n",
    "\n",
    "n = 30\n",
    "y = calculate_y(n)\n",
    "\n",
    "# obliczanie w tył\n",
    "x = [y[30], y[29]]\n",
    "for i in range(28, -1, -1):\n",
    "    x.append((2*y1 - y0) / 2)\n",
    "x.reverse()\n",
    "\n",
    "# Wartości dokładne dla y0 i y1\n",
    "y0_dokladne = 2**(2/3) / 2\n",
    "y1_dokladne = 2**(-1/3)\n",
    "\n",
    "print(\"y_0 =\", x[0])\n",
    "print(\"y_1 =\", x[1])\n",
    "print(\"y_0 dokładne =\", y0_dokladne)\n",
    "print(\"y_1 dokładne =\", y1_dokladne)"
   ]
  },
  {
   "cell_type": "markdown",
   "id": "cbd5a35e-3036-41f5-af5d-f7c2180d927f",
   "metadata": {},
   "source": [
    "## Zadanie 3"
   ]
  },
  {
   "cell_type": "markdown",
   "id": "09899216-164d-45e4-990c-5a285f5bf639",
   "metadata": {},
   "source": [
    "Dla $x ∈ {\\{10^4, 10^5, . . . , 10^{10}\\}}$ oblicz (dwukrotnie) wartości funkcji <br>\n",
    "$f(x)=x− \\sqrt{1 + x^2} = \\frac{-1}{x + \\sqrt{1+x^2}}$ <br>\n",
    "korzystając z obu podanych wzorów. Porównaj wyniki."
   ]
  },
  {
   "cell_type": "code",
   "execution_count": 14,
   "id": "676950e4-5851-439d-8b2d-a0b195783254",
   "metadata": {},
   "outputs": [],
   "source": [
    "import math\n",
    "import numpy as np\n",
    "import sympy as sp\n",
    "import matplotlib.pyplot as plt"
   ]
  },
  {
   "cell_type": "code",
   "execution_count": 4,
   "id": "6d5ecd2a-9f5a-4804-8a50-264076bbad87",
   "metadata": {},
   "outputs": [
    {
     "name": "stdout",
     "output_type": "stream",
     "text": [
      "-5.000000055588316e-05\n",
      "-4.999994416721165e-06\n",
      "-5.00003807246685e-07\n",
      "-5.029141902923584e-08\n",
      "0.0\n",
      "0.0\n",
      "0.0\n"
     ]
    }
   ],
   "source": [
    "#1\n",
    "X = [4, 5, 6, 7, 8, 9, 10]\n",
    "A = []\n",
    "for x in X:\n",
    "    y1 = 10**x - (math.sqrt(1 + (10**x)**2))\n",
    "    A.append(y1)\n",
    "    print(y1)"
   ]
  },
  {
   "cell_type": "code",
   "execution_count": 11,
   "id": "f5055483-a858-4207-b57c-7dd1573e0243",
   "metadata": {},
   "outputs": [
    {
     "name": "stdout",
     "output_type": "stream",
     "text": [
      "-4.9999999874999996e-05\n",
      "-4.999999999875e-06\n",
      "-4.999999999998749e-07\n",
      "-4.999999999999987e-08\n",
      "-5e-09\n",
      "-5e-10\n",
      "-5e-11\n"
     ]
    }
   ],
   "source": [
    "#2\n",
    "B = []\n",
    "for x in X:\n",
    "    y2 = (-1)/(10**x + math.sqrt(1 + (10**x)**2))\n",
    "    B.append(y2)\n",
    "    print(y2)"
   ]
  },
  {
   "cell_type": "code",
   "execution_count": 45,
   "id": "bfd37806-9e47-4ce4-96b2-628ed093a5b7",
   "metadata": {},
   "outputs": [
    {
     "name": "stdout",
     "output_type": "stream",
     "text": [
      "Wyniki różnią się dla wzoru (1) i (2. Wyniki dla 10^8, 10^9 i 10^10 znacząco się różnią \n"
     ]
    }
   ],
   "source": [
    "print('Wyniki różnią się dla wzoru (1) i (2. Wyniki dla 10^8, 10^9 i 10^10 znacząco się różnią ')"
   ]
  },
  {
   "cell_type": "code",
   "execution_count": 13,
   "id": "a298a111-5407-4197-9c43-fcb72b5e3bcc",
   "metadata": {},
   "outputs": [
    {
     "name": "stdout",
     "output_type": "stream",
     "text": [
      "[6.808831656043152e-13, 5.583153835188651e-12, 3.807246810093941e-12, 2.9141902923596784e-10, 5e-09, 5e-10, 5e-11]\n"
     ]
    }
   ],
   "source": [
    "roznica = []\n",
    "for i in range(0, 7):\n",
    "    r = abs(A[i] - B[i])\n",
    "    roznica.append(r)\n",
    "    \n",
    "print(roznica)"
   ]
  },
  {
   "cell_type": "code",
   "execution_count": 18,
   "id": "c0808a88-5af2-4476-ab74-e258aacbdff4",
   "metadata": {},
   "outputs": [
    {
     "data": {
      "image/png": "[encoded data removed]",
      "text/plain": [
       "<Figure size 432x288 with 1 Axes>"
      ]
     },
     "metadata": {
      "needs_background": "light"
     },
     "output_type": "display_data"
    }
   ],
   "source": [
    "plt.bar(X, roznica, color='purple')\n",
    "plt.title('Różnice w wynikach')\n",
    "plt.show()"
   ]
  },
  {
   "cell_type": "markdown",
   "id": "8755d7f1-f716-4c10-be56-a57af5750fed",
   "metadata": {},
   "source": [
    "## Zadanie 4"
   ]
  },
  {
   "cell_type": "markdown",
   "id": "13891694-e212-4e02-98d4-0b5e3f937702",
   "metadata": {},
   "source": [
    "Dla $x ∈ ⟨1 − 10−3, 1 + 10−3⟩$ oblicz (dwukrotnie) wartości funkcji $g(x)=(x−1)^4 =x^4 −4x^3 +6x^2 −4x+1$\n",
    "korzystając z obu podanych wzorów. Porównaj wyniki."
   ]
  },
  {
   "cell_type": "code",
   "execution_count": 8,
   "id": "e74fd498-11ab-44ad-96bc-809883325396",
   "metadata": {},
   "outputs": [
    {
     "name": "stdout",
     "output_type": "stream",
     "text": [
      "0.999\n",
      "1.0019999999999998\n"
     ]
    }
   ],
   "source": [
    "first = 1- 10**(-3)\n",
    "last = 1+ 10**(-3) + 0.001\n",
    "lastlast = last +1\n",
    "print(first)\n",
    "print(last)"
   ]
  },
  {
   "cell_type": "code",
   "execution_count": 9,
   "id": "0629147f-7eb5-4b91-a25e-36f560e0b893",
   "metadata": {},
   "outputs": [],
   "source": [
    "def newrange(start, stop, step):\n",
    "    while start < stop:\n",
    "        yield start\n",
    "        start += step"
   ]
  },
  {
   "cell_type": "code",
   "execution_count": 10,
   "id": "55416546-391a-42d6-bcc6-ab05ccdb5ff8",
   "metadata": {},
   "outputs": [
    {
     "name": "stdout",
     "output_type": "stream",
     "text": [
      "0.999\n",
      "0.9991\n",
      "0.9992\n",
      "0.9993\n",
      "0.9994\n",
      "0.9994999999999999\n",
      "0.9995999999999999\n",
      "0.9996999999999999\n",
      "0.9997999999999999\n",
      "0.9998999999999999\n",
      "0.9999999999999999\n",
      "1.0001\n",
      "1.0002\n",
      "1.0003\n",
      "1.0004\n",
      "1.0005\n",
      "1.0006\n",
      "1.0007\n",
      "1.0008\n",
      "1.0009\n",
      "1.001\n",
      "1.0010999999999999\n",
      "1.0011999999999999\n",
      "1.0012999999999999\n",
      "1.0013999999999998\n",
      "1.0014999999999998\n",
      "1.0015999999999998\n",
      "1.0016999999999998\n",
      "1.0017999999999998\n",
      "1.0018999999999998\n"
     ]
    }
   ],
   "source": [
    "for x in newrange(first, last, 0.0001):\n",
    "    print(x)"
   ]
  },
  {
   "cell_type": "code",
   "execution_count": 19,
   "id": "84b7cf0e-345c-4055-833b-710f9ab2473a",
   "metadata": {},
   "outputs": [
    {
     "name": "stdout",
     "output_type": "stream",
     "text": [
      "1.0000000000000036e-12\n",
      "0.0\n"
     ]
    }
   ],
   "source": [
    "for a in newrange(first, last, 0.001):\n",
    "    g1 = (a - 1)**4\n",
    "    print(g1)"
   ]
  },
  {
   "cell_type": "code",
   "execution_count": 20,
   "id": "e4ad2840-2eaa-4283-ab38-44f141520879",
   "metadata": {},
   "outputs": [
    {
     "name": "stdout",
     "output_type": "stream",
     "text": [
      "1.000532989792191e-12\n",
      "0.0\n"
     ]
    }
   ],
   "source": [
    "for b in newrange(first, last, 0.001):\n",
    "    g2 = b**4 - 4*b**3 + 6*b**2 -4*b +1\n",
    "    print(g2)"
   ]
  },
  {
   "cell_type": "code",
   "execution_count": 21,
   "id": "056e434b-cdf7-4421-9e48-60d77c75d57a",
   "metadata": {},
   "outputs": [],
   "source": [
    "first = 1- 10**(-3)\n",
    "last = 1+ 10**(-3)\n",
    "g1 = (x-1)**4\n",
    "g2 = x**4 - 4*x**3 + 6*x**2 - 4*x +1\n",
    "x = np.linspace(first, last, 100)"
   ]
  },
  {
   "cell_type": "code",
   "execution_count": 22,
   "id": "c2cdc51d-30b0-489d-8186-4374e9ed0bac",
   "metadata": {},
   "outputs": [
    {
     "name": "stdout",
     "output_type": "stream",
     "text": [
      "[0.999      0.9990202  0.9990404  0.99906061 0.99908081 0.99910101\n",
      " 0.99912121 0.99914141 0.99916162 0.99918182 0.99920202 0.99922222\n",
      " 0.99924242 0.99926263 0.99928283 0.99930303 0.99932323 0.99934343\n",
      " 0.99936364 0.99938384 0.99940404 0.99942424 0.99944444 0.99946465\n",
      " 0.99948485 0.99950505 0.99952525 0.99954545 0.99956566 0.99958586\n",
      " 0.99960606 0.99962626 0.99964646 0.99966667 0.99968687 0.99970707\n",
      " 0.99972727 0.99974747 0.99976768 0.99978788 0.99980808 0.99982828\n",
      " 0.99984848 0.99986869 0.99988889 0.99990909 0.99992929 0.99994949\n",
      " 0.9999697  0.9999899  1.0000101  1.0000303  1.00005051 1.00007071\n",
      " 1.00009091 1.00011111 1.00013131 1.00015152 1.00017172 1.00019192\n",
      " 1.00021212 1.00023232 1.00025253 1.00027273 1.00029293 1.00031313\n",
      " 1.00033333 1.00035354 1.00037374 1.00039394 1.00041414 1.00043434\n",
      " 1.00045455 1.00047475 1.00049495 1.00051515 1.00053535 1.00055556\n",
      " 1.00057576 1.00059596 1.00061616 1.00063636 1.00065657 1.00067677\n",
      " 1.00069697 1.00071717 1.00073737 1.00075758 1.00077778 1.00079798\n",
      " 1.00081818 1.00083838 1.00085859 1.00087879 1.00089899 1.00091919\n",
      " 1.00093939 1.0009596  1.0009798  1.001     ]\n"
     ]
    }
   ],
   "source": [
    "print(x)"
   ]
  },
  {
   "cell_type": "code",
   "execution_count": 23,
   "id": "5aa2bf8e-b959-4325-a832-0409709afef6",
   "metadata": {},
   "outputs": [
    {
     "name": "stdout",
     "output_type": "stream",
     "text": [
      "Wykres dla wzrou g1: \n"
     ]
    },
    {
     "data": {
      "text/plain": [
       "[<matplotlib.lines.Line2D at 0x7fe9c00cb2b0>]"
      ]
     },
     "execution_count": 23,
     "metadata": {},
     "output_type": "execute_result"
    },
    {
     "data": {
      "image/png": "[encoded data removed]",
      "text/plain": [
       "<Figure size 432x288 with 1 Axes>"
      ]
     },
     "metadata": {
      "needs_background": "light"
     },
     "output_type": "display_data"
    }
   ],
   "source": [
    "print(\"Wykres dla wzrou g1: \")\n",
    "plt.plot(x,g1)"
   ]
  },
  {
   "cell_type": "code",
   "execution_count": 24,
   "id": "75ad264a-6110-45c2-af80-4ea182982c29",
   "metadata": {},
   "outputs": [
    {
     "name": "stdout",
     "output_type": "stream",
     "text": [
      "Wykres dla wzoru g2: \n"
     ]
    },
    {
     "data": {
      "text/plain": [
       "[<matplotlib.lines.Line2D at 0x7fea0078ea60>]"
      ]
     },
     "execution_count": 24,
     "metadata": {},
     "output_type": "execute_result"
    },
    {
     "data": {
      "image/png": "[encoded data removed]",
      "text/plain": [
       "<Figure size 432x288 with 1 Axes>"
      ]
     },
     "metadata": {
      "needs_background": "light"
     },
     "output_type": "display_data"
    }
   ],
   "source": [
    "print(\"Wykres dla wzoru g2: \")\n",
    "plt.plot(x, g2)"
   ]
  },
  {
   "cell_type": "code",
   "execution_count": 25,
   "id": "d14b4527-8abf-4d01-af31-85080f9aa09b",
   "metadata": {},
   "outputs": [
    {
     "name": "stdout",
     "output_type": "stream",
     "text": [
      "wykres porównania: \n"
     ]
    },
    {
     "data": {
      "text/plain": [
       "[<matplotlib.lines.Line2D at 0x7fe9c803a850>]"
      ]
     },
     "execution_count": 25,
     "metadata": {},
     "output_type": "execute_result"
    },
    {
     "data": {
      "image/png": "[encoded data removed]",
      "text/plain": [
       "<Figure size 432x288 with 1 Axes>"
      ]
     },
     "metadata": {
      "needs_background": "light"
     },
     "output_type": "display_data"
    }
   ],
   "source": [
    "y = abs(g1- g2)\n",
    "g1 = (x-1)**4\n",
    "g2 = x**4 - 4*x**3 + 6*x**2 - 4*x +1\n",
    "x = np.linspace(first, last, 100)\n",
    "print(\"wykres porównania: \")\n",
    "plt.plot(x,y)"
   ]
  },
  {
   "cell_type": "code",
   "execution_count": null,
   "id": "f7d8f937-0d0a-47a7-b94d-bf716a41b8f7",
   "metadata": {},
   "outputs": [],
   "source": []
  }
 ],
 "metadata": {
  "kernelspec": {
   "display_name": "Python 3",
   "language": "python",
   "name": "python3"
  },
  "language_info": {
   "codemirror_mode": {
    "name": "ipython",
    "version": 3
   },
   "file_extension": ".py",
   "mimetype": "text/x-python",
   "name": "python",
   "nbconvert_exporter": "python",
   "pygments_lexer": "ipython3",
   "version": "3.8.8"
  }
 },
 "nbformat": 4,
 "nbformat_minor": 5
}
