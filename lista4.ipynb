{
 "cells": [
  {
   "cell_type": "markdown",
   "id": "ce94c808-aa17-4639-a4b1-8b15c26f70b7",
   "metadata": {},
   "source": [
    "## Zadanie 1"
   ]
  },
  {
   "cell_type": "markdown",
   "id": "927ffaef-d052-47ca-9987-39c99a411d19",
   "metadata": {},
   "source": [
    "Korzystając z funkcji wbudowanych w pakiet oblicz wyznaczniki z macierzy:"
   ]
  },
  {
   "cell_type": "code",
   "execution_count": 2,
   "id": "87e337fe-9cdd-45da-b3c7-c1123c646e88",
   "metadata": {},
   "outputs": [
    {
     "name": "stdout",
     "output_type": "stream",
     "text": [
      "[[ 1  1  2  1]\n",
      " [ 0  1  4  3]\n",
      " [ 4  6  8  6]\n",
      " [ 5  5 -5  5]]\n"
     ]
    }
   ],
   "source": [
    "import numpy as np\n",
    "a = np.array([[1, 1, 2, 1], [0, 1, 4, 3], [4, 6, 8, 6], [5, 5, -5, 5]])\n",
    "print(a)"
   ]
  },
  {
   "cell_type": "code",
   "execution_count": 3,
   "id": "63a93aaa-0672-4d7f-90df-c1d64d32ab2d",
   "metadata": {},
   "outputs": [
    {
     "name": "stdout",
     "output_type": "stream",
     "text": [
      "wyznacznik macierzy A jest równy:  -59.999999999999986\n"
     ]
    }
   ],
   "source": [
    "det_a = np.linalg.det(a)\n",
    "print( \"wyznacznik macierzy A jest równy: \", det_a)"
   ]
  },
  {
   "cell_type": "code",
   "execution_count": 4,
   "id": "ff6843ae-44f1-4d94-8af8-81dd290e3a07",
   "metadata": {},
   "outputs": [
    {
     "name": "stdout",
     "output_type": "stream",
     "text": [
      "[[2 1 1 2]\n",
      " [1 2 1 2]\n",
      " [2 1 2 1]\n",
      " [2 2 2 2]]\n"
     ]
    }
   ],
   "source": [
    "b = np.array([[2,1,1,2], [1,2,1,2], [2,1,2,1], [2,2,2,2]])\n",
    "print(b)"
   ]
  },
  {
   "cell_type": "code",
   "execution_count": 5,
   "id": "b878bb72-7417-492e-b105-b33e0f8540fa",
   "metadata": {},
   "outputs": [
    {
     "name": "stdout",
     "output_type": "stream",
     "text": [
      "wyznacznik macierzy B jest równy:  3.330669073875464e-16\n"
     ]
    }
   ],
   "source": [
    "det_b = np.linalg.det(b)\n",
    "print( \"wyznacznik macierzy B jest równy: \", det_b)"
   ]
  },
  {
   "cell_type": "markdown",
   "id": "104ca299-8e99-4c1e-bdd9-a47db7b47194",
   "metadata": {},
   "source": [
    "## Zadanie 2"
   ]
  },
  {
   "cell_type": "markdown",
   "id": "6f9cf23f-45d9-4740-bb37-91139df19fe4",
   "metadata": {},
   "source": [
    "Znajdź układ (kilku) równań liniowych z kilkoma niewiadomymi, który ma dokładnie jedno rozwiązanie, dla którego wbudowane metody pakietu znajdują je niedokładnie. Dla sprawdzenia poprawności rozwiązania sprawdzaj, czy $r = Ax − b$ jest zerem. Spróbuj znaleźć taki układ, dla którego r jest jak największe."
   ]
  },
  {
   "cell_type": "markdown",
   "id": "db89e71f-5083-435c-b988-75679cd58d8a",
   "metadata": {},
   "source": [
    "Możemy wygenerować losowy układ równań liniowych z kilkoma niewiadomymi, który będzie miał dokładnie jedno rozwiązanie, ale którego rozwiązanie będzie niedokładne dla wbudowanych metod pakietu. Do generowania takiego układu użyjemy biblioteki NumPy.\n",
    "Najpierw zaimportujmy potrzebne biblioteki:"
   ]
  },
  {
   "cell_type": "code",
   "execution_count": 1,
   "id": "e76b1404-9f0f-4cc3-addf-685e32b42180",
   "metadata": {},
   "outputs": [],
   "source": [
    "import numpy as np\n",
    "from numpy.linalg import norm"
   ]
  },
  {
   "cell_type": "markdown",
   "id": "0328602a-8c43-4883-b81e-335b5291befe",
   "metadata": {},
   "source": [
    "Następnie wygenerujmy losowy układ równań liniowych z 4 niewiadomymi, który będzie miał dokładnie jedno rozwiązanie. Możemy to zrobić poprzez wylosowanie macierzy współczynników A o wymiarach 4x4 oraz wektora wyrazów wolnych b o długości 4 i obliczenie wektora rozwiązań x jako rozwiązania układu równań Ax = b:"
   ]
  },
  {
   "cell_type": "code",
   "execution_count": 2,
   "id": "6504ca90-4ec1-4d42-8fa9-6675d8f32e1a",
   "metadata": {},
   "outputs": [],
   "source": [
    "A = np.random.rand(4, 4)\n",
    "b = np.random.rand(4)\n",
    "x = np.linalg.solve(A, b)"
   ]
  },
  {
   "cell_type": "markdown",
   "id": "39fc85ed-1eee-4650-a011-9cd3c810cc38",
   "metadata": {},
   "source": [
    "Teraz możemy dodać szum do wektora b, aby otrzymać niedokładne dane wejściowe dla wbudowanych metod pakietu:\n",
    "python"
   ]
  },
  {
   "cell_type": "code",
   "execution_count": 3,
   "id": "7da92316-be35-4f96-bc30-8e39f2a5ba8a",
   "metadata": {},
   "outputs": [],
   "source": [
    "b_noisy = b + 0.1 * np.random.randn(4)"
   ]
  },
  {
   "cell_type": "markdown",
   "id": "ad872f53-f4b1-450b-82d0-96112778f242",
   "metadata": {},
   "source": [
    "Następnie możemy rozwiązać układ równań z zakłóconymi danymi wejściowymi przy użyciu wbudowanej funkcji numpy.linalg.solve() i obliczyć resztę r jako różnicę między iloczynem macierzy A i wektora x a wektorem b:"
   ]
  },
  {
   "cell_type": "code",
   "execution_count": 4,
   "id": "c5b85a80-ec29-41ca-89bd-f8acb7d8ba98",
   "metadata": {},
   "outputs": [
    {
     "data": {
      "text/plain": [
       "array([ 1.11022302e-16,  1.11022302e-16,  0.00000000e+00, -1.11022302e-16])"
      ]
     },
     "execution_count": 4,
     "metadata": {},
     "output_type": "execute_result"
    }
   ],
   "source": [
    "x_approx = np.linalg.solve(A, b_noisy)\n",
    "r = np.dot(A, x_approx) - b_noisy\n",
    "r"
   ]
  },
  {
   "cell_type": "markdown",
   "id": "253e24cb-1de1-41ae-9dc6-e79eaecca7b4",
   "metadata": {},
   "source": [
    "Teraz możemy sprawdzić, czy reszta r jest bliska zeru przy użyciu normy L2:"
   ]
  },
  {
   "cell_type": "code",
   "execution_count": 5,
   "id": "0cafeb2b-a05c-4320-9e6d-de79defac5f2",
   "metadata": {},
   "outputs": [
    {
     "data": {
      "text/plain": [
       "1.9229626863835638e-16"
      ]
     },
     "execution_count": 5,
     "metadata": {},
     "output_type": "execute_result"
    }
   ],
   "source": [
    "residual_norm = norm(r)\n",
    "residual_norm"
   ]
  },
  {
   "cell_type": "markdown",
   "id": "baf94732-6a4a-4c9c-8c09-802ccc45c1c3",
   "metadata": {},
   "source": [
    "Jeśli reszta r jest bliska zeru, oznacza to, że nasze rozwiązanie jest bliskie dokładnemu rozwiązaniu układu równań Ax = b. Jednakże, dla naszego celu, chcemy znaleźć układ równań, dla którego reszta r jest jak największa. Aby to osiągnąć, możemy powtórzyć proces generowania układu równań i rozwiązywania go z różnymi losowymi wektorami wyrazów wolnych, a następnie wybrać ten układ równań, dla którego norma reszty r jest największa:"
   ]
  },
  {
   "cell_type": "code",
   "execution_count": 35,
   "id": "3a75df73-5487-4f4e-adce-472f76a2f8bc",
   "metadata": {
    "tags": []
   },
   "outputs": [
    {
     "data": {
      "text/plain": [
       "1.0352061747083999e-13"
      ]
     },
     "execution_count": 35,
     "metadata": {},
     "output_type": "execute_result"
    }
   ],
   "source": [
    "max_residual_norm = 0\n",
    "max_residual_norm_A = None\n",
    "max_residual_norm_b = None\n",
    "max_residual_norm_x = None\n",
    "\n",
    "for i in range(100):\n",
    "    A = np.random.rand(4, 4)\n",
    "    b = np.random.rand(4)\n",
    "    x = np.linalg.solve(A, b)\n",
    "    b_noisy = b + 0.1 * np.random.randn(4)\n",
    "    x_approx = np.linalg.solve(A, b_noisy)\n",
    "    r = np.dot(A, x_approx) - b_noisy\n",
    "    residual_norm = norm(r)\n",
    "    if residual_norm > max_residual_norm:\n",
    "        max_residual_norm = residual_norm\n",
    "        A_p = A\n",
    "        b_p = b\n",
    "        x_p = x\n",
    "        #print(max_residual_norm)\n",
    "        \n",
    "max_residual_norm\n"
   ]
  },
  {
   "cell_type": "code",
   "execution_count": 37,
   "id": "91a944d4-34e0-4820-bfcf-40f851541a05",
   "metadata": {},
   "outputs": [
    {
     "name": "stdout",
     "output_type": "stream",
     "text": [
      "[[0.17456243 0.87335368 0.26798425 0.13711133]\n",
      " [0.20011718 0.14058807 0.1874011  0.82135816]\n",
      " [0.7789195  0.04395224 0.64578057 0.71522447]\n",
      " [0.48010389 0.14379662 0.41270693 0.15149812]] [0.25005644 0.88844171 0.98948639 0.90444754] [ 731.85201863  128.02806873 -895.69979449    5.22085636]\n"
     ]
    }
   ],
   "source": [
    "print(A_p, b_p, x_p)"
   ]
  },
  {
   "cell_type": "code",
   "execution_count": null,
   "id": "f3a0e41e-6664-48d4-aed9-c0bfd86e5452",
   "metadata": {},
   "outputs": [],
   "source": []
  }
 ],
 "metadata": {
  "kernelspec": {
   "display_name": "Python 3",
   "language": "python",
   "name": "python3"
  },
  "language_info": {
   "codemirror_mode": {
    "name": "ipython",
    "version": 3
   },
   "file_extension": ".py",
   "mimetype": "text/x-python",
   "name": "python",
   "nbconvert_exporter": "python",
   "pygments_lexer": "ipython3",
   "version": "3.8.8"
  }
 },
 "nbformat": 4,
 "nbformat_minor": 5
}
