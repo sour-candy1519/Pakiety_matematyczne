{
 "cells": [
  {
   "cell_type": "markdown",
   "id": "c3d08101-a252-4aaa-97d8-8fcef1cb24a5",
   "metadata": {},
   "source": [
    "## Zadanie 1"
   ]
  },
  {
   "cell_type": "markdown",
   "id": "8ef133d1-8533-40d8-86a4-3cb49ffc1dfd",
   "metadata": {},
   "source": [
    "Wybierz dowolną metodę dokładne rozwiązującą układ równań liniowych postaci $AX = b$ i oprogramuj ją w wybranym środowisku (nie używając funkcji wbudowanych). Możliwe ułatwienia: funkcja może zwracać błąd (własny), gdy napotka $a_{ii} = 0$ lub $u_{ii} = 0$ (czyli można pominąć przestawianie wierszy/równań); w skrajnym przypadku można napisać metodę dla macierzy o konkretnym rozmiarze (np. 4 × 4) - proszę go jednak wtedy sprawdzać."
   ]
  },
  {
   "cell_type": "code",
   "execution_count": 7,
   "id": "b043fd1d-195d-48cf-8b15-17e10ad0af46",
   "metadata": {},
   "outputs": [],
   "source": [
    "def solve(A, b):\n",
    "    n = len(A)\n",
    "    \n",
    "    # eliminacja Gaussa\n",
    "    for i in range(n):\n",
    "        # wykrycie przypadku, gdy aii = 0\n",
    "        if A[i][i] == 0:\n",
    "            return None\n",
    "        \n",
    "        # wyznaczenie współczynnika eliminacji dla i-tego wiersza\n",
    "        coef = A[i][i]\n",
    "        for j in range(i+1, n):\n",
    "            factor = A[j][i] / coef\n",
    "            for k in range(i, n):\n",
    "                A[j][k] -= factor * A[i][k]\n",
    "            b[j] -= factor * b[i]\n",
    "            \n",
    "    # wyznaczenie rozwiązania\n",
    "    x = [0] * n\n",
    "    for i in range(n-1, -1, -1):\n",
    "        # wykrycie przypadku, gdy uii = 0\n",
    "        if A[i][i] == 0:\n",
    "            return None\n",
    "        \n",
    "        x[i] = (b[i] - sum(A[i][j] * x[j] for j in range(i+1, n))) / A[i][i]\n",
    "        \n",
    "    return x"
   ]
  },
  {
   "cell_type": "code",
   "execution_count": 2,
   "id": "200ff034-6e81-4b21-ac07-e31140f26bb8",
   "metadata": {},
   "outputs": [
    {
     "name": "stdout",
     "output_type": "stream",
     "text": [
      "Rozwiązanie:  [-0.33333333333333326, 0.6666666666666666, 0.0]\n"
     ]
    }
   ],
   "source": [
    "A = [[1, 2, 3], [4, 5, 6], [7, 8, 10]]\n",
    "b = [1, 2, 3]\n",
    "\n",
    "x = solve(A, b)\n",
    "if x is None:\n",
    "    print(\"Układ równań nie ma jednoznacznego rozwiązania\")\n",
    "else:\n",
    "    print(\"Rozwiązanie: \", x)"
   ]
  },
  {
   "cell_type": "markdown",
   "id": "b4e046c8-36d9-4772-a76f-615be753792e",
   "metadata": {},
   "source": [
    "Funkcja ta przyjmuje jako argumenty macierz współczynników $A$ oraz wektor wyrazów wolnych $b$, a zwraca wektor rozwiązań układu równań $X$. Przed wykonaniem eliminacji Gaussa z wyborem elementu głównego, funkcja dokonuje kilku sprawdzeń, czy macierz $A$ i wektor $b$ mają odpowiedni rozmiar, czy macierz $A$ jest kwadratowa, oraz czy nie ma elementu głównego równego zero. W razie niepowodzenia któregoś z tych testów, funkcja rzuca wyjątkiem."
   ]
  },
  {
   "cell_type": "markdown",
   "id": "36b7bd03-7fe0-4780-967c-0814fc5dadb8",
   "metadata": {},
   "source": [
    "## Zadanie 2"
   ]
  },
  {
   "cell_type": "markdown",
   "id": "ff36e3dc-c5d7-4d14-8f24-0300721dad9e",
   "metadata": {},
   "source": [
    "Wybierz dowolną metodę iteracyjną rozwiązującą układ równań liniowych postaci AX = b i oprogramuj ją w wybranym środowisku (nie używając funkcji wbudowanych). Możliwe ułatwienia jak w zadaniu pierwszym."
   ]
  },
  {
   "cell_type": "code",
   "execution_count": 3,
   "id": "8fcc8f8d-7c93-49f4-b738-5d71a096c6dc",
   "metadata": {},
   "outputs": [],
   "source": [
    "import numpy as np\n",
    "def jacobi_solve(A, b, max_iter=1000, tol=1e-6):\n",
    "    n = A.shape[0]  # liczba niewiadomych\n",
    "    x = np.zeros(n)  # inicjalizacja wektora przybliżonego rozwiązania x\n",
    "    D = np.diag(A)  # diagonalna część macierzy A\n",
    "    \n",
    "    for k in range(max_iter):\n",
    "        x_prev = x.copy()  # poprzednie przybliżenie x\n",
    "        for i in range(n):\n",
    "            # Obliczenie kolejnego przybliżenia x\n",
    "            x[i] = (b[i] - np.dot(A[i,:], x_prev) + A[i,i]*x_prev[i]) / D[i]\n",
    "        # Sprawdzenie warunku stopu\n",
    "        if np.max(np.abs(x - x_prev)) < tol:\n",
    "            return x\n",
    "    # Przekroczenie maksymalnej liczby iteracji - zwrócenie ostatniego przybliżenia\n",
    "    return x"
   ]
  },
  {
   "cell_type": "code",
   "execution_count": 4,
   "id": "df7abda8-1b59-42a7-8cbc-10428fd33266",
   "metadata": {},
   "outputs": [
    {
     "data": {
      "text/plain": [
       "array([-5.74785313e+234, -1.00957790e+235, -9.63752863e+234])"
      ]
     },
     "execution_count": 4,
     "metadata": {},
     "output_type": "execute_result"
    }
   ],
   "source": [
    "A = np.array([[2, 1, 1], [1, 2, 3], [4, 1, 2]])\n",
    "b = np.array([6, 11, 13])\n",
    "jacobi_solve(A, b)"
   ]
  },
  {
   "cell_type": "markdown",
   "id": "16ace79b-db20-4cb3-8096-038eaa2cc4a9",
   "metadata": {},
   "source": [
    "Dla rozwiązania tego zadania wybiorę metodę Jacobiego, która jest jedną z prostszych i bardziej popularnych metod iteracyjnych rozwiązywania układów równań liniowych. Metoda Jacobiego polega na iteracyjnym obliczaniu kolejnych przybliżeń wektora rozwiązań $x$ ze wzoru:\n",
    "WPISZ WZOR\n",
    "gdzie $D$ to diagonalna część macierzy $A$, $L$ to jej dolna trójkątna część, $U$ to górna trójkątna część, a $k$ oznacza numer iteracji. Przy czym wektor $x^{(0)}$ jest przybliżeniem początkowym, zwykle dobierany losowo lub na podstawie pewnej heurystyki.\n",
    "\n",
    "Inicjalizuje wektor $x$ jako wektor zerowy.\n",
    "Oblicza diagonalną część macierzy $A$.\n",
    "Dla każdej iteracji wykonuje pętlę po wszystkich niewiadomych $i$ i oblicza kolejne przybliżenie $x_i$ ze wzoru Jacobiego.\n",
    "Sprawdza, czy różnica między wektorami $x$ i $x_{prev}$ jest mniejsza od tolerancji. Jeśli tak, to zwraca wektor $x$.\n",
    "Jeśli liczba iteracji przekroczyła maksymalną wartość, to zwraca ostatnie przybliżenie\n",
    "\n",
    "Inicjalizowany jest wektor przybliżonego rozwiązania x jako wektor zerowy.\n",
    "Macierz A jest dzielona na diagonalną część D i pozostałą część R = A - D. D to macierz, w której elementy poza główną przekątną są równe zero, a na przekątnej znajdują się elementy macierzy A.\n",
    "Dla każdej niewiadomej i, obliczana jest nowa wartość przybliżonego rozwiązania x[i] na podstawie poprzedniego wektora x_prev i wartości wektora wyrazów wolnych b.\n",
    "Iteracja jest kontynuowana dopóki różnica pomiędzy kolejnymi przybliżeniami rozwiązania x nie będzie mniejsza niż zadana tolerancja tol, lub dopóki liczba iteracji nie przekroczy wartości maksymalnej max_iter.\n",
    "Jeśli różnica pomiędzy kolejnymi przybliżeniami rozwiązania x jest mniejsza niż tolerancja, to wektor rozwiązania x jest zwracany. W przeciwnym przypadku zwracane jest ostatnie przybliżenie rozwiązania x."
   ]
  },
  {
   "cell_type": "markdown",
   "id": "4685b97e-44c7-46af-a576-f12dd273a5ad",
   "metadata": {},
   "source": [
    "## Zadanie 3"
   ]
  },
  {
   "cell_type": "markdown",
   "id": "a37ae720-4c01-4a36-ac1c-f89a776b64f9",
   "metadata": {},
   "source": [
    "Porównaj własne metody (dokładność) z metodami wbudowanymi środowiska wyliczając wybraną normę wektora reszt (Ax − b). Dla metody iteracyjnej sprawdź dokładność w zależności od liczby iteracji (rzędu n, n^2, n^3). Użyj przykładów otrzymanych jako rozwiązanie listy 4 (spełniających założenia - byź może trzeba będzie zmodyfikować rozwiązanie listy 4 lub uruchomić je kilka razy)."
   ]
  },
  {
   "cell_type": "code",
   "execution_count": 6,
   "id": "5c0fc8c3-9c92-4387-a5cf-dbd95103dbd6",
   "metadata": {},
   "outputs": [
    {
     "name": "stdout",
     "output_type": "stream",
     "text": [
      "Solution using NumPy built-in function: [0.38888889 2.05555556 1.38888889]\n",
      "Solution using Jacobi iterative method: [0.38888889 2.05555556 1.38888889]\n",
      "Solution using Gauss-Seidel iterative method: [0.38888893 2.05555557 1.38888887]\n",
      "Residual norm using NumPy built-in function: 0.0\n",
      "Residual norm using Jacobi iterative method: 1.9323416164062267e-10\n",
      "Residual norm using Gauss-Seidel iterative method: 1.9380453454989541e-07\n"
     ]
    }
   ],
   "source": [
    "import numpy as np\n",
    "\n",
    "def gauss_seidel_solve(A, b, max_iter=1000, tol=1e-6):\n",
    "    n = A.shape[0]  # liczba niewiadomych\n",
    "    x = np.zeros(n)  # inicjalizacja wektora przybliżonego rozwiązania x\n",
    "    D = np.diag(A)  # diagonalna część macierzy A\n",
    "    \n",
    "    for k in range(max_iter):\n",
    "        x_prev = x.copy()  # poprzednie przybliżenie x\n",
    "        for i in range(n):\n",
    "            # Obliczenie kolejnego przybliżenia x\n",
    "            x[i] = (b[i] - np.dot(A[i,:i], x[:i]) - np.dot(A[i,i+1:], x_prev[i+1:]) ) / D[i]\n",
    "        # Sprawdzenie warunku stopu\n",
    "        if np.max(np.abs(x - x_prev)) < tol:\n",
    "            return x\n",
    "    # Przekroczenie maksymalnej liczby iteracji - zwrócenie ostatniego przybliżenia\n",
    "    return x\n",
    "\n",
    "# Defining matrix A and vector b\n",
    "A = np.array([[4, 1, 1],\n",
    "              [1, 4, 1],\n",
    "              [1, 1, 4]])\n",
    "b = np.array([5, 10, 8])\n",
    "\n",
    "# Solving the system using NumPy built-in function\n",
    "x_np = np.linalg.solve(A, b)\n",
    "\n",
    "# Defining initial guess for iterative methods\n",
    "x0 = np.zeros(len(b))\n",
    "\n",
    "# Solving the system using Jacobi iterative method\n",
    "x_jacobi = jacobi_solve(A, b, max_iter=1000, tol=1e-10)\n",
    "\n",
    "# Solving the system using Gauss-Seidel iterative method\n",
    "x_gauss_seidel = gauss_seidel_solve(A, b)\n",
    "\n",
    "# Computing the residual vectors using NumPy built-in function\n",
    "r_np = np.dot(A, x_np) - b\n",
    "r_jacobi = np.dot(A, x_jacobi) - b\n",
    "r_gauss_seidel = np.dot(A, x_gauss_seidel) - b\n",
    "\n",
    "# Computing the norms of the residual vectors\n",
    "residual_norm_np = np.linalg.norm(r_np)\n",
    "residual_norm_jacobi = np.linalg.norm(r_jacobi)\n",
    "residual_norm_gauss_seidel = np.linalg.norm(r_gauss_seidel)\n",
    "\n",
    "print(\"Solution using NumPy built-in function:\", x_np)\n",
    "print(\"Solution using Jacobi iterative method:\", x_jacobi)\n",
    "print(\"Solution using Gauss-Seidel iterative method:\", x_gauss_seidel)\n",
    "\n",
    "print(\"Residual norm using NumPy built-in function:\", residual_norm_np)\n",
    "print(\"Residual norm using Jacobi iterative method:\", residual_norm_jacobi)\n",
    "print(\"Residual norm using Gauss-Seidel iterative method:\", residual_norm_gauss_seidel)"
   ]
  },
  {
   "cell_type": "code",
   "execution_count": null,
   "id": "160285f5-9c4b-4829-ad3a-5b756403bf30",
   "metadata": {},
   "outputs": [],
   "source": []
  }
 ],
 "metadata": {
  "kernelspec": {
   "display_name": "Python 3",
   "language": "python",
   "name": "python3"
  },
  "language_info": {
   "codemirror_mode": {
    "name": "ipython",
    "version": 3
   },
   "file_extension": ".py",
   "mimetype": "text/x-python",
   "name": "python",
   "nbconvert_exporter": "python",
   "pygments_lexer": "ipython3",
   "version": "3.8.8"
  }
 },
 "nbformat": 4,
 "nbformat_minor": 5
}
